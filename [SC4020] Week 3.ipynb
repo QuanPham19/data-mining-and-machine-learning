{
 "cells": [
  {
   "cell_type": "code",
   "execution_count": null,
   "id": "23715a9b",
   "metadata": {},
   "outputs": [],
   "source": [
    "import numpy as np\n",
    "from sympy import symbols, Eq, solve"
   ]
  },
  {
   "cell_type": "code",
   "execution_count": 14,
   "id": "abae364e",
   "metadata": {},
   "outputs": [
    {
     "name": "stdout",
     "output_type": "stream",
     "text": [
      "{r1: 0.387096774193548, r2: 0.129032258064516, r3: 0.290322580645161, r4: 0.193548387096774}\n"
     ]
    }
   ],
   "source": [
    "# Q1. Given the graph below, calculate the page rank score for each node using the following two methods:\n",
    "# Edges: \n",
    "# (1,2), (1,3), (1,4) => d_1 = 3 => w_{12} = w_{23} = w_{34} = 1/3\n",
    "# (2,3), (2,4) => d_2 = 2 => w_{23} = w{24} = 1/2\n",
    "# (3,1) => d_3 = 1 => w_{31} = 1\n",
    "# (4,1), (4,3) => d_4 = 2 => w_{41} = w_{43} = 1/2\n",
    "\n",
    "# r_j = sum( w_{ij} * r(j) )\n",
    "# r_1 = r_3 + 1/2 (r_4)\n",
    "# r_2 = 1/3 (r_1) \n",
    "# r_3 = 1/3 (r_1) + 1/2 (r_2) + 1/2 (r_4)\n",
    "# r_4 = 1/3 (r_1) + 1/2 (r_2)\n",
    "# r_1 + r_2 + r_3 + r_4 = 1\n",
    "\n",
    "# 1) directly solving the flow equations\n",
    "r1, r2, r3, r4 = symbols('r1 r2 r3 r4')\n",
    "eq1 = Eq(r1, r3 + 1/2 * r4)\n",
    "eq2 = Eq(r2, 1/3 * r1)\n",
    "eq3 = Eq(r3, 1/3 * r1 + 1/2 * r2 + 1/2 * r4)\n",
    "eq4 = Eq(r4, 1/3 * r1 + 1/2 * r2)\n",
    "eq5 = Eq(r1 + r2 + r3 + r4, 1)\n",
    "\n",
    "solution = solve((eq1, eq2, eq3, eq4, eq5), (r1, r2, r3, r4))\n",
    "print(solution)"
   ]
  },
  {
   "cell_type": "code",
   "execution_count": 25,
   "id": "2f90b03a",
   "metadata": {},
   "outputs": [
    {
     "name": "stdout",
     "output_type": "stream",
     "text": [
      "[0.38709677 0.12903226 0.29032258 0.19354839]\n"
     ]
    }
   ],
   "source": [
    "# 2) using the power iterative method for 2 iterations\n",
    "matrix = np.array([ [0,0,1,1/2], [1/3,0,0,0], [1/3,1/2,0,1/2], [1/3,1/2,0,0] ])\n",
    "r = np.array([0.25, 0.25, 0.25, 0.25])\n",
    "for i in range(100):\n",
    "    r = matrix @ r\n",
    "print(r)"
   ]
  }
 ],
 "metadata": {
  "kernelspec": {
   "display_name": "Python 3 (ipykernel)",
   "language": "python",
   "name": "python3"
  },
  "language_info": {
   "codemirror_mode": {
    "name": "ipython",
    "version": 3
   },
   "file_extension": ".py",
   "mimetype": "text/x-python",
   "name": "python",
   "nbconvert_exporter": "python",
   "pygments_lexer": "ipython3",
   "version": "3.9.13"
  }
 },
 "nbformat": 4,
 "nbformat_minor": 5
}
