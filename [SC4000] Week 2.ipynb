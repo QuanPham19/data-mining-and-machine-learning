{
 "cells": [
  {
   "cell_type": "code",
   "execution_count": 17,
   "id": "7ae70cd7",
   "metadata": {},
   "outputs": [
    {
     "name": "stdout",
     "output_type": "stream",
     "text": [
      "Conditional probability of 1a: 0.43; 1b: 0.67\n"
     ]
    }
   ],
   "source": [
    "# Q1: Suppose A, B and C are three variables of binary values (0 or 1). Given the probabilities P(A = 1, B = 0) = 0.4,\n",
    "# P(A = 0) = 0.3, and P(A = 1, B = 1, C = 1) = 0.1, compute the following probabilities:\n",
    "\n",
    "# (a) P(B = 1|A = 1)\n",
    "P_a0 = 0.3\n",
    "P_a1_and_b0 = 0.4\n",
    "\n",
    "P_a1 = 1 - P_a0\n",
    "P_a1_and_b1 = P_a1 - P_a1_and_b0\n",
    "P_b1_given_a1 = P_a1_and_b1 / P_a1\n",
    "ans_1a = round(P_b1_given_a1, 2)\n",
    "\n",
    "# (b) P(C = 0|B = 1, A = 1).\n",
    "P_a1_and_b1_and_c1 = 0.1\n",
    "P_c1_given_a1_and_b1 = P_a1_and_b1_and_c1 / P_a1_and_b1\n",
    "P_c0_given_a1_and_b1 = 1 - P_c1_given_a1_and_b1\n",
    "ans_1b = round(P_c0_given_a1_and_b1, 2)\n",
    "\n",
    "print(f'Conditional probability of 1a: {ans_1a}; 1b: {ans_1b}')"
   ]
  },
  {
   "cell_type": "code",
   "execution_count": 18,
   "id": "df0915e4",
   "metadata": {},
   "outputs": [
    {
     "name": "stdout",
     "output_type": "stream",
     "text": [
      "Predict no cancer loss: 0.03; Predict cancer loss: 0.0046\n"
     ]
    }
   ],
   "source": [
    "# Q2: Suppose that if a person has lung cancer, his/her probability of having gene X is 0.9, and if a person does not \n",
    "# have lung cancer, his/her probability of having gene X is 0.2. The probability of a person having lung cancer is 0.01. \n",
    "# Now, we know that a patient A has gene X.\n",
    "\n",
    "# (a) Use Bayesian decision theory with 0/1 loss to predict whether the patient A has lung cancer or not.\n",
    "# Random P(x) = 0.3\n",
    "P_x = 0.3\n",
    "\n",
    "# P(x | cancer) = P(x, cancer) / P(cancer)\n",
    "P_x_given_cancer = 0.9\n",
    "\n",
    "# P(x | no cancer) = P(x, no cancer) / P(no cancer)\n",
    "P_x_given_no_cancer = 0.2\n",
    "\n",
    "# P(cancer) = 0.01 => P(no cancer) = 0.99\n",
    "P_cancer = 0.01\n",
    "P_no_cancer = 0.99\n",
    "\n",
    "# P(x, cancer) = 0.009 < P(x, no cancer) = 0.198 => P(cancer | x)*P(x) < P(no cancer | x)*P(x)\n",
    "# Hence P(cancer | x) < P(no cancer | x) and we predict 'no cancer'\n",
    "P_x_and_cancer = P_x_given_cancer * P_cancer\n",
    "P_x_and_no_cancer = P_x_given_no_cancer * P_no_cancer\n",
    "\n",
    "# (b) Consider that costs of misclassification are different. Assume that the cost for correct decisions is 0, the cost \n",
    "# of misclassifying a person who does not have lung cancer to be a patient with lung cancer is 0.007, and the cost of \n",
    "# misclassifying a person who has lung cancer to be a healthy person is 1. Please use Bayesian decision theory with the \n",
    "# predefined loss to predict whether the patient A has lung cancer or not.\n",
    "\n",
    "# lambda_{ik} = loss of action a_i predicting cancer Y=i when true label is k\n",
    "lambda_00, lambda_11 = 0, 0\n",
    "lambda_10 = 0.007\n",
    "lambda_01 = 1\n",
    "\n",
    "P_cancer_given_x = P_x_and_cancer / P_x\n",
    "P_no_cancer_given_x = P_x_and_no_cancer / P_x\n",
    "\n",
    "# It is advisable to predict no cancer to minimize the cost of mis-classification\n",
    "loss_0 = P_no_cancer_given_x * (lambda_00) + P_cancer_given_x * (lambda_01)\n",
    "loss_1 = P_cancer_given_x * (lambda_11) + P_no_cancer_given_x * (lambda_10)\n",
    "print(f'Predict no cancer loss: {round(loss_0, 4)}; Predict cancer loss: {round(loss_1, 4)}')"
   ]
  },
  {
   "cell_type": "code",
   "execution_count": null,
   "id": "47416b5e",
   "metadata": {},
   "outputs": [],
   "source": []
  }
 ],
 "metadata": {
  "kernelspec": {
   "display_name": "Python 3 (ipykernel)",
   "language": "python",
   "name": "python3"
  },
  "language_info": {
   "codemirror_mode": {
    "name": "ipython",
    "version": 3
   },
   "file_extension": ".py",
   "mimetype": "text/x-python",
   "name": "python",
   "nbconvert_exporter": "python",
   "pygments_lexer": "ipython3",
   "version": "3.9.13"
  }
 },
 "nbformat": 4,
 "nbformat_minor": 5
}
