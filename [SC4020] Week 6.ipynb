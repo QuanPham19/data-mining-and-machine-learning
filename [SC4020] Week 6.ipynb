{
  "nbformat": 4,
  "nbformat_minor": 0,
  "metadata": {
    "colab": {
      "provenance": []
    },
    "kernelspec": {
      "name": "python3",
      "display_name": "Python 3"
    },
    "language_info": {
      "name": "python"
    }
  },
  "cells": [
    {
      "cell_type": "code",
      "execution_count": null,
      "metadata": {
        "id": "yhIojYm92mNC"
      },
      "outputs": [],
      "source": [
        "import numpy as np\n",
        "import pandas as pd"
      ]
    },
    {
      "cell_type": "code",
      "source": [
        "# Q1: Given the data points below and the parameters: epsilon=3, minPoints=4, write down which of the points\n",
        "# are core points, border points and noise points, respectively using DBSCAN.\n",
        "from sklearn.neighbors import NearestNeighbors\n",
        "\n",
        "import numpy as np\n",
        "from sklearn.neighbors import NearestNeighbors\n",
        "\n",
        "def dbscan(X, eps, min_samples):\n",
        "    labels = np.zeros(X.shape[0])  # Cluster labels, initialized to 0 for unvisited points\n",
        "    core_points = set()\n",
        "    border_points = set()\n",
        "    noise_points = set()\n",
        "\n",
        "    for i in range(X.shape[0]):\n",
        "        if labels[i] != 0:  # Skip already visited points\n",
        "            continue\n",
        "\n",
        "        neighbors = region_query(X, i, eps)\n",
        "\n",
        "        if len(neighbors) < min_samples:\n",
        "            pass\n",
        "        else:\n",
        "            labels[i] = len(core_points) + 1  # Assign a new cluster label\n",
        "            core_points.add(i)\n",
        "            expand_cluster(X, labels, i, neighbors, core_points, border_points, eps, min_samples)\n",
        "\n",
        "    return labels, core_points, border_points\n",
        "\n",
        "def expand_cluster(X, labels, point_idx, neighbors, core_points, border_points, eps, min_samples):\n",
        "    i = 0\n",
        "    while i < len(neighbors):\n",
        "        current_point = neighbors[i]\n",
        "        if labels[current_point] == 0:\n",
        "            labels[current_point] = labels[point_idx]  # Assign to current cluster\n",
        "            new_neighbors = region_query(X, current_point, eps)\n",
        "            if len(new_neighbors) >= min_samples:\n",
        "                core_points.add(current_point)\n",
        "                neighbors += new_neighbors  # Expand cluster\n",
        "            else:\n",
        "                border_points.add(current_point)\n",
        "        i += 1\n",
        "\n",
        "def region_query(X, point_idx, eps):\n",
        "    return np.where(np.linalg.norm(X - X[point_idx], axis=1) < eps)[0]\n",
        "\n",
        "# Example usage:\n",
        "# Assuming 'data' is your input data (numpy array)\n",
        "# eps is the radius of the neighborhood, and min_samples is the minimum number of points to form a dense region\n",
        "# labels will contain the cluster assignment for each point\n",
        "# core_points, border_points, and noise_points will contain the indices of core, border, and noise points respectively\n",
        "\n",
        "data = np.array([[2,2],[4,3],[3,5],[1,5],[-5,3],[5,1],[-4,6],[-3,4],[-2,6]])\n",
        "labels, core_points, border_points = dbscan(data, eps=3, min_samples=4)\n",
        "print(f'Labels: {labels}')\n",
        "print(f'Core points: {core_points}')\n",
        "print(f'Border points: {border_points}')"
      ],
      "metadata": {
        "colab": {
          "base_uri": "https://localhost:8080/"
        },
        "id": "Tm6807y627sk",
        "outputId": "9a8e010b-88da-4e8c-ac97-a35fb5e6b0c8"
      },
      "execution_count": null,
      "outputs": [
        {
          "output_type": "stream",
          "name": "stdout",
          "text": [
            "Labels: [1. 1. 1. 0. 2. 1. 2. 2. 2.]\n",
            "Core points: {1, 7}\n",
            "Border points: {0, 2, 4, 5, 6, 8}\n"
          ]
        }
      ]
    },
    {
      "cell_type": "code",
      "source": [
        "# Q2: A graph is given below. The current community assignment is:\n",
        "# C1={1, 2, 3, 4}, C2={5,6,7,8}.\n",
        "# Process node 1 to update the communities using Louvain Algorithm.\n",
        "\n",
        "graph = {(1,2): 0.2, (1,3): 0.1, (2,3): 0.6, (3,4): 0.4, (2,4): 0.5,\n",
        "         (1,6): 1, (5,6): 0.4, (6,7): 0.6, (6,8): 0.4, (7,8): 0.8}\n",
        "keys = list(graph.keys())\n",
        "for (i,j) in keys:\n",
        "    graph[(j,i)] = graph[(i,j)]\n",
        "\n",
        "c1_before = [1,2,3,4]\n",
        "c2_before = [5,6,7,8]\n",
        "c1_after = [2,3,4]\n",
        "c2_after = [1,5,6,7,8]\n",
        "\n",
        "m = sum([weight for weight in graph.values()])/2; m\n",
        "sigma_in_c1_before = sum([graph[(i,j)] for (i,j) in graph.keys() if i in c1_before and j in c1_before])\n",
        "sigma_tot_c1_before = sum([graph[(i,j)] for (i,j) in graph.keys() if i in c1_before])\n",
        "Q_c1_before = sigma_in_c1_before / (2*m) - ( sigma_tot_c1_before/(2*m) )**2\n",
        "\n",
        "sigma_in_c2_before = sum([graph[(i,j)] for (i,j) in graph.keys() if i in c2_before and j in c2_before])\n",
        "sigma_tot_c2_before = sum([graph[(i,j)] for (i,j) in graph.keys() if i in c2_before])\n",
        "Q_c2_before = sigma_in_c2_before / (2*m) - ( sigma_tot_c2_before/(2*m) )**2\n",
        "\n",
        "sigma_in_c1_after = sum([graph[(i,j)] for (i,j) in graph.keys() if i in c1_after and j in c1_after])\n",
        "sigma_tot_c1_after = sum([graph[(i,j)] for (i,j) in graph.keys() if i in c1_after])\n",
        "Q_c1_after = sigma_in_c1_after / (2*m) - ( sigma_tot_c1_after/(2*m) )**2\n",
        "\n",
        "sigma_in_c2_after = sum([graph[(i,j)] for (i,j) in graph.keys() if i in c2_after and j in c2_after])\n",
        "sigma_tot_c2_after = sum([graph[(i,j)] for (i,j) in graph.keys() if i in c2_after])\n",
        "Q_c2_after = sigma_in_c2_after / (2*m) - ( sigma_tot_c2_after/(2*m) )**2\n",
        "\n",
        "print('Moving node 1 to community C2 gives the largest positive modularity gain.')\n",
        "print('We move node 1 to community C2 to update the community assignment.')\n",
        "print(f'Delta Q: {Q_c1_after + Q_c2_after - Q_c1_before - Q_c2_before}')"
      ],
      "metadata": {
        "colab": {
          "base_uri": "https://localhost:8080/"
        },
        "id": "qKl1U6fI67BD",
        "outputId": "e8271e52-6fa5-420c-bd90-6ed4a8312c79"
      },
      "execution_count": null,
      "outputs": [
        {
          "output_type": "stream",
          "name": "stdout",
          "text": [
            "Moving node 1 to community C2 gives the largest positive modularity gain.\n",
            "We move node 1 to community C2 to update the community assignment.\n",
            "Delta Q: 0.08540000000000003\n"
          ]
        }
      ]
    }
  ]
}