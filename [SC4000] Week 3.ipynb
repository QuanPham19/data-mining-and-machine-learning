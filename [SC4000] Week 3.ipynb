{
 "cells": [
  {
   "cell_type": "code",
   "execution_count": 16,
   "id": "0d23f86c",
   "metadata": {},
   "outputs": [],
   "source": [
    "import numpy as np\n",
    "import pandas as pd"
   ]
  },
  {
   "cell_type": "code",
   "execution_count": 17,
   "id": "1f40628a",
   "metadata": {},
   "outputs": [
    {
     "data": {
      "text/html": [
       "<div>\n",
       "<style scoped>\n",
       "    .dataframe tbody tr th:only-of-type {\n",
       "        vertical-align: middle;\n",
       "    }\n",
       "\n",
       "    .dataframe tbody tr th {\n",
       "        vertical-align: top;\n",
       "    }\n",
       "\n",
       "    .dataframe thead th {\n",
       "        text-align: right;\n",
       "    }\n",
       "</style>\n",
       "<table border=\"1\" class=\"dataframe\">\n",
       "  <thead>\n",
       "    <tr style=\"text-align: right;\">\n",
       "      <th></th>\n",
       "      <th>A</th>\n",
       "      <th>B</th>\n",
       "      <th>C</th>\n",
       "      <th>Class</th>\n",
       "    </tr>\n",
       "  </thead>\n",
       "  <tbody>\n",
       "    <tr>\n",
       "      <th>0</th>\n",
       "      <td>0</td>\n",
       "      <td>0</td>\n",
       "      <td>0</td>\n",
       "      <td>-</td>\n",
       "    </tr>\n",
       "    <tr>\n",
       "      <th>1</th>\n",
       "      <td>0</td>\n",
       "      <td>0</td>\n",
       "      <td>1</td>\n",
       "      <td>-</td>\n",
       "    </tr>\n",
       "    <tr>\n",
       "      <th>2</th>\n",
       "      <td>0</td>\n",
       "      <td>1</td>\n",
       "      <td>1</td>\n",
       "      <td>+</td>\n",
       "    </tr>\n",
       "    <tr>\n",
       "      <th>3</th>\n",
       "      <td>0</td>\n",
       "      <td>1</td>\n",
       "      <td>1</td>\n",
       "      <td>+</td>\n",
       "    </tr>\n",
       "    <tr>\n",
       "      <th>4</th>\n",
       "      <td>0</td>\n",
       "      <td>0</td>\n",
       "      <td>1</td>\n",
       "      <td>-</td>\n",
       "    </tr>\n",
       "    <tr>\n",
       "      <th>5</th>\n",
       "      <td>1</td>\n",
       "      <td>0</td>\n",
       "      <td>1</td>\n",
       "      <td>+</td>\n",
       "    </tr>\n",
       "    <tr>\n",
       "      <th>6</th>\n",
       "      <td>1</td>\n",
       "      <td>1</td>\n",
       "      <td>0</td>\n",
       "      <td>-</td>\n",
       "    </tr>\n",
       "    <tr>\n",
       "      <th>7</th>\n",
       "      <td>1</td>\n",
       "      <td>0</td>\n",
       "      <td>0</td>\n",
       "      <td>-</td>\n",
       "    </tr>\n",
       "    <tr>\n",
       "      <th>8</th>\n",
       "      <td>1</td>\n",
       "      <td>0</td>\n",
       "      <td>1</td>\n",
       "      <td>+</td>\n",
       "    </tr>\n",
       "    <tr>\n",
       "      <th>9</th>\n",
       "      <td>0</td>\n",
       "      <td>1</td>\n",
       "      <td>0</td>\n",
       "      <td>-</td>\n",
       "    </tr>\n",
       "  </tbody>\n",
       "</table>\n",
       "</div>"
      ],
      "text/plain": [
       "   A  B  C Class\n",
       "0  0  0  0     -\n",
       "1  0  0  1     -\n",
       "2  0  1  1     +\n",
       "3  0  1  1     +\n",
       "4  0  0  1     -\n",
       "5  1  0  1     +\n",
       "6  1  1  0     -\n",
       "7  1  0  0     -\n",
       "8  1  0  1     +\n",
       "9  0  1  0     -"
      ]
     },
     "execution_count": 17,
     "metadata": {},
     "output_type": "execute_result"
    }
   ],
   "source": [
    "# Q1: Given dataset as below\n",
    "dict1 = { 'A': [0,0,0,0,0,1,1,1,1,0], 'B': [0,0,1,1,0,0,1,0,0,1], \n",
    "          'C': [0,1,1,1,1,1,0,0,1,0], 'Class': ['-','-','+','+','-','+','-','-','+','-']}\n",
    "df = pd.DataFrame(dict1)\n",
    "df"
   ]
  },
  {
   "cell_type": "code",
   "execution_count": 20,
   "id": "a5aa010e",
   "metadata": {},
   "outputs": [
    {
     "name": "stdout",
     "output_type": "stream",
     "text": [
      "P(A=1|+) = 0.5; P(B=1|+) = 0.5; P(C=1|+) = 1.0\n",
      "P(A=1|-) = 0.33; P(B=1|-) = 0.33; P(C=1|-) = 0.33\n"
     ]
    }
   ],
   "source": [
    "# (a) Estimate the conditional probabilities for P(A = 1|+), P(B = 1|+), P(C = 1|+), P(A = 1|−), P(B = 1|−), and P(C = 1|−).\n",
    "P_a1_given_pos = len( df[(df['Class'] == '+') & (df['A'] == 1)] ) / len( df[df['Class'] == '+'])\n",
    "P_b1_given_pos = len( df[(df['Class'] == '+') & (df['B'] == 1)] ) / len( df[df['Class'] == '+'])\n",
    "P_c1_given_pos = len( df[(df['Class'] == '+') & (df['C'] == 1)] ) / len( df[df['Class'] == '+'])\n",
    "\n",
    "print(f'P(A=1|+) = {P_a1_given_pos}; P(B=1|+) = {P_b1_given_pos}; P(C=1|+) = {P_c1_given_pos}')\n",
    "\n",
    "P_a1_given_neg = len( df[(df['Class'] == '-') & (df['A'] == 1)] ) / len( df[df['Class'] == '-'])\n",
    "P_b1_given_neg = len( df[(df['Class'] == '-') & (df['B'] == 1)] ) / len( df[df['Class'] == '-'])\n",
    "P_c1_given_neg = len( df[(df['Class'] == '-') & (df['C'] == 1)] ) / len( df[df['Class'] == '-'])\n",
    "\n",
    "print(f'P(A=1|-) = {round(P_a1_given_neg, 2)}; P(B=1|-) = {round(P_b1_given_neg, 2)}; P(C=1|-) = {round(P_c1_given_neg, 2)}')\n"
   ]
  },
  {
   "cell_type": "code",
   "execution_count": 22,
   "id": "a2a20cfe",
   "metadata": {},
   "outputs": [
    {
     "data": {
      "text/plain": [
       "0.1"
      ]
     },
     "execution_count": 22,
     "metadata": {},
     "output_type": "execute_result"
    }
   ],
   "source": [
    "# (b) Use the estimate of conditional probabilities given in the previous question to predict the class label for a test \n",
    "# example (A = 1, B = 1, C = 1) using the naıve Bayes approach.\n",
    "P_pos = 0.4\n",
    "P_neg = 0.6\n",
    "\n",
    "# Let P(A=1, B=1, C=1) = k\n",
    "# P(+ | A=1, B=1, C=1) = P(A=1, B=1, C=1 | +) * P(+) / k = 0.1/k\n",
    "P_a1_b1_c1_and_pos = P_a1_given_pos * P_b1_given_pos * P_c1_given_pos * P_pos\n",
    "\n",
    "# P(- | A=1, B=1, C=1) = P(A=1, B=1, C=1 | -) * P(-) / k = 0.022/k\n",
    "P_a1_b1_c1_and_neg = P_a1_given_neg * P_b1_given_neg * P_c1_given_neg * P_neg\n",
    "\n",
    "# Hence by maximum likelihood, we predict '+' for case A=1, B=1, C=1\n",
    "P_a1_b1_c1_and_pos"
   ]
  }
 ],
 "metadata": {
  "kernelspec": {
   "display_name": "Python 3 (ipykernel)",
   "language": "python",
   "name": "python3"
  },
  "language_info": {
   "codemirror_mode": {
    "name": "ipython",
    "version": 3
   },
   "file_extension": ".py",
   "mimetype": "text/x-python",
   "name": "python",
   "nbconvert_exporter": "python",
   "pygments_lexer": "ipython3",
   "version": "3.9.13"
  }
 },
 "nbformat": 4,
 "nbformat_minor": 5
}
