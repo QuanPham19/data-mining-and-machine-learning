{
  "nbformat": 4,
  "nbformat_minor": 0,
  "metadata": {
    "colab": {
      "provenance": []
    },
    "kernelspec": {
      "name": "python3",
      "display_name": "Python 3"
    },
    "language_info": {
      "name": "python"
    }
  },
  "cells": [
    {
      "cell_type": "code",
      "execution_count": null,
      "metadata": {
        "id": "n_X94Moohn3v"
      },
      "outputs": [],
      "source": [
        "import numpy as np\n",
        "import pandas as pd"
      ]
    },
    {
      "cell_type": "code",
      "source": [
        "# Q1: Consider a binary classification problem. Given a test instance, suppose\n",
        "# the 5 nearest neighbors of the test instance in the training data set are shown in Table 1.\n",
        "# Use a 5-NN classifier with the distance-weighted voting approach to make a prediction\n",
        "# on the test instance.\n",
        "\n",
        "data = {'Index': [1,2,3,4,5], 'Label': ['+','+','+','-','-'],\n",
        "        'Distance': [3, 3.5, 4, 1.5, 2]}\n",
        "df = pd.DataFrame(data)\n",
        "\n",
        "# By majority of votes (not counting distance-weighted)\n",
        "print('Vote counts only: 3 of (+) and 2 of (-), then we predict (+)')\n",
        "print(df['Label'].value_counts())\n",
        "\n",
        "# By distance-weighted voting:\n",
        "print()\n",
        "pos_weight = sum([(1/i)**2 for i in df[df['Label']=='+']['Distance'].values])\n",
        "neg_weight = sum([(1/i)**2 for i in df[df['Label']=='-']['Distance'].values])\n",
        "print(f'Distance-weighted votes: {pos_weight:.2f} for (+) and {neg_weight:.2f} for (-), then we predict (-)')"
      ],
      "metadata": {
        "colab": {
          "base_uri": "https://localhost:8080/"
        },
        "id": "qOwzlm1ilN9_",
        "outputId": "192156e8-0a47-4d70-f495-3416d41e02bb"
      },
      "execution_count": null,
      "outputs": [
        {
          "output_type": "stream",
          "name": "stdout",
          "text": [
            "Vote counts only: 3 of (+) and 2 of (-), then we predict (+)\n",
            "+    3\n",
            "-    2\n",
            "Name: Label, dtype: int64\n",
            "\n",
            "Distance-weighted votes: 0.26 for (+) and 0.69 for (-), then we predict (-)\n"
          ]
        }
      ]
    },
    {
      "cell_type": "code",
      "source": [
        "# Q2: Decide whether to post-prune in this two cases. Note: e'(T) = e(T) + N(0.5)\n",
        "# Order: (Branch 1, Branch 2) including (C0, C1)\n",
        "\n",
        "case1 = [[11,3],[2,4]]\n",
        "case2 = [[14,2],[2,2]]\n",
        "\n",
        "error_1_before = 3 + 2 + 2 * 0.5\n",
        "error_1_after = 7 + 0.5\n",
        "error_2_before = 3 + 2 + 2*0.5\n",
        "error_2_after = 5 + 0.5\n",
        "\n",
        "print('After pruning, case 1 have higher error: 7.5 > 6 hence should not prune')\n",
        "print('After pruning, case 2 have lower error: 5.5 < 6 hence should prune')\n"
      ],
      "metadata": {
        "colab": {
          "base_uri": "https://localhost:8080/"
        },
        "id": "uDIUsDuko4fM",
        "outputId": "65a469e7-556d-4daa-c286-213b7da159ba"
      },
      "execution_count": null,
      "outputs": [
        {
          "output_type": "stream",
          "name": "stdout",
          "text": [
            "After pruning, case 1 have higher error: 7.5 > 6 hence should not prune\n",
            "After pruning, case 2 have lower error: 5.5 < 6 hence should prune\n"
          ]
        }
      ]
    }
  ]
}