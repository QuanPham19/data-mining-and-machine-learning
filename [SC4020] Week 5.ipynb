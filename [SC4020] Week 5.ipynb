{
  "nbformat": 4,
  "nbformat_minor": 0,
  "metadata": {
    "colab": {
      "provenance": []
    },
    "kernelspec": {
      "name": "python3",
      "display_name": "Python 3"
    },
    "language_info": {
      "name": "python"
    }
  },
  "cells": [
    {
      "cell_type": "code",
      "execution_count": null,
      "metadata": {
        "id": "XYzFYLmcpCsW"
      },
      "outputs": [],
      "source": [
        "import numpy as np\n",
        "import pandas as pd"
      ]
    },
    {
      "cell_type": "code",
      "source": [
        "# Q1: Given query sample A and database samples B, C, D, E, F. Find top 2 nearest neighbors in LSH-random projection\n",
        "# A = [0,-1], B=[-2,0], C=[1,2], D=[2,1], E=[1,-1], F=[-1,2]\n",
        "# Hash functions: w1=[-1,1], w2=[-1,0], w3=[0,1], w4=[1,-1], w5=[1,0], w6=[-1,-1]\n",
        "\n",
        "a = np.array([0,-1])\n",
        "b = np.array([-2,0])\n",
        "c = np.array([1,2])\n",
        "d = np.array([2,1])\n",
        "e = np.array([1,-1])\n",
        "f = np.array([-1,2])\n",
        "w = np.array([[-1,1],[-1,0],[0,1],[1,-1],[1,0],[-1,-1]])\n",
        "\n",
        "# Top 2 nearest neighbor of A is (E,D) or (E,B) as sum of difference is 2 and 3\n",
        "for i in [a,b,c,d,e,f]:\n",
        "    print(f'projection of {i}: {[0 if x<=0 else 1 for x in w @ i]}')\n"
      ],
      "metadata": {
        "colab": {
          "base_uri": "https://localhost:8080/"
        },
        "id": "5ngKTdbdqGzC",
        "outputId": "196abd12-4bf0-4c45-83dc-eb72f0475cc5"
      },
      "execution_count": null,
      "outputs": [
        {
          "output_type": "stream",
          "name": "stdout",
          "text": [
            "projection of [ 0 -1]: [0, 0, 0, 1, 0, 1]\n",
            "projection of [-2  0]: [1, 1, 0, 0, 0, 1]\n",
            "projection of [1 2]: [1, 0, 1, 0, 1, 0]\n",
            "projection of [2 1]: [0, 0, 1, 1, 1, 0]\n",
            "projection of [ 1 -1]: [0, 0, 0, 1, 1, 0]\n",
            "projection of [-1  2]: [1, 1, 1, 0, 0, 0]\n"
          ]
        }
      ]
    },
    {
      "cell_type": "code",
      "source": [
        "# Q2: Two input vectors are given: A=[1,0,2,1,-1,0] and B=[-1,3,1,4,3,2] and three subspaces as below.\n",
        "# Subspace 1: C1 = [-2,1], C2 = [3,2], C3 = [2,-1]\n",
        "# Subspace 2: C1 = [1,0], C2 = [2,3], C3 = [-1,3]\n",
        "# Subspace 3: C1 = [-2,3], C2 = [1,-1], C3 = [1,4]\n",
        "\n",
        "# (i) Use Product Quantization to compute the compressed vectors of A and B\n",
        "a1 = np.array([1,0]); a2 = np.array([2,1]); a3 = np.array([-1,0])\n",
        "b1 = np.array([-1,3]); b2 = np.array([1,4]); b3 = np.array([3,2])\n",
        "c1 = np.array([[-2,1],[3,2],[2,-1]])\n",
        "c2 = np.array([[1,0],[2,3],[-1,3]])\n",
        "c3 = np.array([[-2,3],[1,-1],[1,4]])\n",
        "\n",
        "def l2_distance(a,b):\n",
        "    return (a[0]-b[0])**2 + (a[1]-b[1])**2\n",
        "\n",
        "print('In subspace 1, A is asigned to 3rd centroid and B is assigned to 1st centroid')\n",
        "for i in range(3):\n",
        "    print(f'distance between a1 and c{i+1}: {l2_distance(a1, c1[i])}')\n",
        "for i in range(3):\n",
        "    print(f'distance between b1 and c{i+1}: {l2_distance(b1, c1[i])}')\n",
        "\n",
        "print('In subspace 2, A is asigned to 1st centroid and B is assigned to 2nd centroid')\n",
        "for i in range(3):\n",
        "    print(f'distance between a2 and c{i+1}: {l2_distance(a2, c2[i])}')\n",
        "for i in range(3):\n",
        "    print(f'distance between b2 and c{i+1}: {l2_distance(b2, c2[i])}')\n",
        "\n",
        "print('In subspace 3, A is asigned to 2nd centroid and B is assigned to 3rd centroid')\n",
        "for i in range(3):\n",
        "    print(f'distance between a3 and c{i+1}: {l2_distance(a3, c3[i])}')\n",
        "for i in range(3):\n",
        "    print(f'distance between b3 and c{i+1}: {l2_distance(b3, c3[i])}')"
      ],
      "metadata": {
        "colab": {
          "base_uri": "https://localhost:8080/"
        },
        "id": "AHd5FBDkro0K",
        "outputId": "e6bb1234-78ff-45df-91f1-5701f9066f73"
      },
      "execution_count": null,
      "outputs": [
        {
          "output_type": "stream",
          "name": "stdout",
          "text": [
            "In subspace 1, A is asigned to 3rd centroid and B is assigned to 1st centroid\n",
            "distance between a1 and c1: 10\n",
            "distance between a1 and c2: 8\n",
            "distance between a1 and c3: 2\n",
            "distance between b1 and c1: 5\n",
            "distance between b1 and c2: 17\n",
            "distance between b1 and c3: 25\n",
            "In subspace 2, A is asigned to 1st centroid and B is assigned to 2nd centroid\n",
            "distance between a2 and c1: 2\n",
            "distance between a2 and c2: 4\n",
            "distance between a2 and c3: 13\n",
            "distance between b2 and c1: 16\n",
            "distance between b2 and c2: 2\n",
            "distance between b2 and c3: 5\n",
            "In subspace 3, A is asigned to 2nd centroid and B is assigned to 3rd centroid\n",
            "distance between a3 and c1: 10\n",
            "distance between a3 and c2: 5\n",
            "distance between a3 and c3: 20\n",
            "distance between b3 and c1: 26\n",
            "distance between b3 and c2: 13\n",
            "distance between b3 and c3: 8\n"
          ]
        }
      ]
    },
    {
      "cell_type": "code",
      "source": [
        "# (ii) Construct distance lookup tables and calculate the approximate squared-L2 distance of A and B using compressed vectors\n",
        "a_compressed = np.array([3,1,2])\n",
        "b_compressed = np.array([1,2,3])\n",
        "\n",
        "print(f'Distance in 1st subspace: {l2_distance(c1[2],c1[0])}')\n",
        "print(f'Distance in 2nd subspace: {l2_distance(c2[0],c2[1])}')\n",
        "print(f'Distance in 3rd subspace: {l2_distance(c3[1],c3[2])}')\n",
        "print(f'Total distance: {l2_distance(c1[2],c1[0]) + l2_distance(c2[0],c2[1]) + l2_distance(c3[1],c3[2])}')"
      ],
      "metadata": {
        "colab": {
          "base_uri": "https://localhost:8080/"
        },
        "id": "-EfML7QcyBI4",
        "outputId": "e6deec0f-aab2-4a72-8109-18e1abcb5e86"
      },
      "execution_count": null,
      "outputs": [
        {
          "output_type": "stream",
          "name": "stdout",
          "text": [
            "Distance in 1st subspace: 20\n",
            "Distance in 2nd subspace: 10\n",
            "Distance in 3rd subspace: 25\n",
            "Total distance: 55\n"
          ]
        }
      ]
    }
  ]
}